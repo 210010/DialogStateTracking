{
 "cells": [
  {
   "cell_type": "markdown",
   "metadata": {
    "deletable": true,
    "editable": true
   },
   "source": [
    "# TRAINING"
   ]
  },
  {
   "cell_type": "code",
   "execution_count": 1,
   "metadata": {
    "collapsed": true,
    "deletable": true,
    "editable": true
   },
   "outputs": [],
   "source": [
    "from entities import EntityTracker\n",
    "from bow import BoW_encoder\n",
    "import lstm_net\n",
    "from embed import UtteranceEmbed\n",
    "from actions import ActionTracker\n",
    "from data_utils import Data\n",
    "\n",
    "import util"
   ]
  },
  {
   "cell_type": "code",
   "execution_count": 2,
   "metadata": {
    "collapsed": true,
    "deletable": true,
    "editable": true
   },
   "outputs": [],
   "source": [
    "import numpy as np"
   ]
  },
  {
   "cell_type": "markdown",
   "metadata": {
    "deletable": true,
    "editable": true
   },
   "source": [
    "## Prepare Blocks"
   ]
  },
  {
   "cell_type": "code",
   "execution_count": 3,
   "metadata": {
    "collapsed": false,
    "deletable": true,
    "editable": true
   },
   "outputs": [],
   "source": [
    "et = EntityTracker()\n",
    "bow_enc = BoW_encoder()\n",
    "emb = UtteranceEmbed()\n",
    "at = ActionTracker(et)"
   ]
  },
  {
   "cell_type": "markdown",
   "metadata": {
    "deletable": true,
    "editable": true
   },
   "source": [
    "## Prepare Data"
   ]
  },
  {
   "cell_type": "code",
   "execution_count": 5,
   "metadata": {
    "collapsed": false,
    "deletable": true,
    "editable": true
   },
   "outputs": [
    {
     "data": {
      "text/plain": [
       "[('good morning', 3),\n",
       " (\"i'd like to book a table with italian food\", 7),\n",
       " ('<SILENCE>', 13),\n",
       " ('in paris', 6),\n",
       " ('for six people please', 14),\n",
       " ('in a cheap price range please', 9),\n",
       " ('<SILENCE>', 1),\n",
       " ('actually i would prefer for two people', 10),\n",
       " ('instead could it be in madrid', 10),\n",
       " ('instead could it be with spanish food', 10)]"
      ]
     },
     "execution_count": 5,
     "metadata": {},
     "output_type": "execute_result"
    }
   ],
   "source": [
    "trainset = Data(et, at).trainset\n",
    "trainset[:10]"
   ]
  },
  {
   "cell_type": "markdown",
   "metadata": {
    "deletable": true,
    "editable": true
   },
   "source": [
    "## Define Network Parameters"
   ]
  },
  {
   "cell_type": "code",
   "execution_count": 6,
   "metadata": {
    "collapsed": true,
    "deletable": true,
    "editable": true
   },
   "outputs": [],
   "source": [
    "obs_size = emb.dim + bow_enc.vocab_size + et.num_features\n",
    "action_templates = at.get_action_templates()\n",
    "action_size = at.action_size\n",
    "nb_hidden = 128"
   ]
  },
  {
   "cell_type": "markdown",
   "metadata": {
    "deletable": true,
    "editable": true
   },
   "source": [
    "## Define Network"
   ]
  },
  {
   "cell_type": "code",
   "execution_count": 7,
   "metadata": {
    "collapsed": false,
    "deletable": true,
    "editable": true
   },
   "outputs": [],
   "source": [
    "import importlib\n",
    "importlib.reload(lstm_net)\n",
    "net = lstm_net.LSTM_net(obs_size=obs_size,\n",
    "               action_size=action_size,\n",
    "               nb_hidden=nb_hidden)"
   ]
  },
  {
   "cell_type": "code",
   "execution_count": 8,
   "metadata": {
    "collapsed": false,
    "deletable": true,
    "editable": true
   },
   "outputs": [
    {
     "name": "stdout",
     "output_type": "stream",
     "text": [
      "0 . 1 : [ 1.24442208]\n",
      "0 . 2 : [ 0.27273756]\n",
      "0 . 3 : [ 0.17494497]\n",
      "1 . 1 : [ 0.15699336]\n",
      "1 . 2 : [ 0.1374225]\n",
      "1 . 3 : [ 0.13203755]\n",
      "2 . 1 : [ 0.13484542]\n",
      "2 . 2 : [ 0.12210717]\n",
      "2 . 3 : [ 0.12004256]\n",
      "3 . 1 : [ 0.12504891]\n",
      "3 . 2 : [ 0.11389817]\n",
      "3 . 3 : [ 0.1131073]\n",
      "4 . 1 : [ 0.11911698]\n",
      "4 . 2 : [ 0.10826278]\n",
      "4 . 3 : [ 0.10802703]\n",
      "5 . 1 : [ 0.11429122]\n",
      "5 . 2 : [ 0.10324478]\n",
      "5 . 3 : [ 0.10344624]\n",
      "6 . 1 : [ 0.11002142]\n",
      "6 . 2 : [ 0.0982981]\n",
      "6 . 3 : [ 0.09933174]\n",
      "7 . 1 : [ 0.10634428]\n",
      "7 . 2 : [ 0.09370458]\n",
      "7 . 3 : [ 0.09550212]\n",
      "8 . 1 : [ 0.10322022]\n",
      "8 . 2 : [ 0.0893264]\n",
      "8 . 3 : [ 0.0919035]\n",
      "9 . 1 : [ 0.1004393]\n",
      "9 . 2 : [ 0.08531643]\n",
      "9 . 3 : [ 0.08909895]\n"
     ]
    }
   ],
   "source": [
    "loss = 0\n",
    "epochs = 10\n",
    "for j in range(epochs):\n",
    "    for i in range(len(trainset)):\n",
    "        # get utterance\n",
    "        u, r = trainset[i]\n",
    "        # encode utterance\n",
    "        u_ent = et.extract_entities(u)\n",
    "        u_ent_features = et.context_features()\n",
    "        u_emb = emb.encode(u)\n",
    "        u_bow = bow_enc.encode(u)\n",
    "        # concat features\n",
    "        features = np.concatenate((u_ent_features, u_emb, u_bow), axis=0)\n",
    "        # get action mask\n",
    "        action_mask = at.action_mask()\n",
    "\n",
    "        # forward propagation\n",
    "        #  train step\n",
    "        loss += net.train_step(features, r, action_mask)\n",
    "        if i and i%6000 == 0:\n",
    "            print(j, '.', i//6000, ':', loss/6000)\n",
    "            loss = 0"
   ]
  },
  {
   "cell_type": "code",
   "execution_count": 17,
   "metadata": {
    "collapsed": false,
    "deletable": true,
    "editable": true
   },
   "outputs": [
    {
     "name": "stdout",
     "output_type": "stream",
     "text": [
      "i love french food : which price range are looking for || api_call <cuisine> <location> <party_size> <rest_type>\n"
     ]
    }
   ],
   "source": [
    "u, r = trainset[307]\n",
    "\n",
    "# encode utterance\n",
    "u_ent = et.extract_entities(u)\n",
    "u_ent_features = et.context_features()\n",
    "u_emb = emb.encode(u)\n",
    "u_bow = bow_enc.encode(u)\n",
    "\n",
    "# concat features\n",
    "features = np.concatenate((u_ent_features, u_emb, u_bow), axis=0)\n",
    "\n",
    "# get action mask\n",
    "action_mask = at.action_mask()\n",
    "\n",
    "# forward\n",
    "pred_template_id = net.forward(features, action_mask)\n",
    "print(u, ':', action_templates[r], '||', action_templates[pred_template_id])"
   ]
  }
 ],
 "metadata": {
  "kernelspec": {
   "display_name": "Python 3",
   "language": "python",
   "name": "python3"
  },
  "language_info": {
   "codemirror_mode": {
    "name": "ipython",
    "version": 3
   },
   "file_extension": ".py",
   "mimetype": "text/x-python",
   "name": "python",
   "nbconvert_exporter": "python",
   "pygments_lexer": "ipython3",
   "version": "3.5.2"
  }
 },
 "nbformat": 4,
 "nbformat_minor": 2
}
